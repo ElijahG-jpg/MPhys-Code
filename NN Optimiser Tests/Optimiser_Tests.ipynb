{
 "cells": [
  {
   "cell_type": "code",
   "execution_count": 2,
   "id": "09eaa3ff",
   "metadata": {
    "execution": {
     "iopub.execute_input": "2025-06-05T15:39:34.864310Z",
     "iopub.status.busy": "2025-06-05T15:39:34.863652Z",
     "iopub.status.idle": "2025-06-05T15:39:35.542252Z",
     "shell.execute_reply": "2025-06-05T15:39:35.541435Z",
     "shell.execute_reply.started": "2025-06-05T15:39:34.864287Z"
    },
    "trusted": true
   },
   "outputs": [
    {
     "name": "stdout",
     "output_type": "stream",
     "text": [
      "Using Device: cuda\n",
      "X = tensor([7., 6., 2., 7., 8., 3., 4., 7., 8., 4.], device='cuda:0')\n",
      "Y = tensor([24.5000, 21.0000,  7.0000, 24.5000, 28.0000, 10.5000, 14.0000, 24.5000,\n",
      "        28.0000, 14.0000], device='cuda:0')\n",
      "Epoch 0, Loss: 222.5, a: 1.0099999904632568\n",
      "Epoch 100, Loss: 88.47396850585938, a: 1.9316694736480713\n",
      "Epoch 200, Loss: 27.902484893798828, a: 2.620351791381836\n",
      "Epoch 300, Loss: 6.730287075042725, a: 3.0685925483703613\n",
      "Epoch 400, Loss: 1.21005117893219, a: 3.317350387573242\n",
      "Epoch 500, Loss: 0.1603485345840454, a: 3.4336135387420654\n",
      "Epoch 600, Loss: 0.015569335781037807, a: 3.47934627532959\n",
      "Epoch 700, Loss: 0.0010994423646479845, a: 3.494520425796509\n",
      "Epoch 800, Loss: 5.5757085647201166e-05, a: 3.4987680912017822\n",
      "Epoch 900, Loss: 2.0039831269969e-06, a: 3.4997668266296387\n",
      "5.252034185332377e-08\n",
      "3.499962329864502\n"
     ]
    }
   ],
   "source": [
    "# Base code from stack exchange https://stackoverflow.com/questions/78088764/finding-the-coefficient-a-of-a-linear-equation-of-the-form-y-ax\n",
    "# Formed the class and training loop for me, I inputted data and edited code to remove errors\n",
    "\n",
    "import torch\n",
    "from torch.optim import Adam\n",
    "import numpy as np\n",
    "import matplotlib.pyplot as plt\n",
    "\n",
    "device = torch.device(\"cuda\" if torch.cuda.is_available() else \"cpu\")\n",
    "print(f\"Using Device: {device}\")\n",
    "\n",
    "class FindParameter(torch.nn.Module):\n",
    "    def __init__(self):\n",
    "        super(FindParameter, self).__init__()\n",
    "        self.a = torch.nn.Parameter(data=torch.tensor([1.0], dtype=torch.float32, requires_grad=True))\n",
    "\n",
    "    def forward(self, input):\n",
    "        return self.a * input\n",
    "\n",
    "\n",
    "a = 3.5\n",
    "X = torch.randint(1, 10, (10,), dtype=torch.float32).to(device)\n",
    "Y = a * X\n",
    "\n",
    "print(f\"{X = }\")\n",
    "print(f\"{Y = }\")\n",
    "\n",
    "model = FindParameter().to(device)\n",
    "loss_f = torch.nn.MSELoss()\n",
    "optimizer = Adam(model.parameters(), lr=1e-2)\n",
    "\n",
    "epochs = 1000\n",
    "\n",
    "for epoch in range(epochs):\n",
    "    optimizer.zero_grad()\n",
    "    y_pred = model(X)\n",
    "\n",
    "    loss = loss_f(y_pred, Y)\n",
    "    loss.backward()\n",
    "    optimizer.step()\n",
    "\n",
    "    if epoch % 100 == 0:\n",
    "        print(f\"Epoch {epoch}, Loss: {loss.item()}, a: {model.a.item()}\")\n",
    "\n",
    "print(loss.item())\n",
    "print(model.a.item())"
   ]
  },
  {
   "cell_type": "code",
   "execution_count": 2,
   "id": "83446c2b",
   "metadata": {
    "execution": {
     "iopub.execute_input": "2025-06-05T14:57:29.570125Z",
     "iopub.status.busy": "2025-06-05T14:57:29.569140Z",
     "iopub.status.idle": "2025-06-05T14:57:29.576950Z",
     "shell.execute_reply": "2025-06-05T14:57:29.576233Z",
     "shell.execute_reply.started": "2025-06-05T14:57:29.570088Z"
    },
    "trusted": true
   },
   "outputs": [
    {
     "data": {
      "text/plain": [
       "[Parameter containing:\n",
       " tensor([3.5000], device='cuda:0', requires_grad=True)]"
      ]
     },
     "execution_count": 2,
     "metadata": {},
     "output_type": "execute_result"
    }
   ],
   "source": [
    "list(model.parameters())"
   ]
  },
  {
   "cell_type": "code",
   "execution_count": 12,
   "id": "1f5779fc-b057-4bc8-a74f-e62e8cdab291",
   "metadata": {
    "execution": {
     "iopub.execute_input": "2025-06-05T15:07:33.337589Z",
     "iopub.status.busy": "2025-06-05T15:07:33.336874Z",
     "iopub.status.idle": "2025-06-05T15:07:33.343085Z",
     "shell.execute_reply": "2025-06-05T15:07:33.342428Z",
     "shell.execute_reply.started": "2025-06-05T15:07:33.337567Z"
    },
    "trusted": true
   },
   "outputs": [
    {
     "data": {
      "text/plain": [
       "tensor([8., 2., 4., 6., 7., 1., 3., 7., 4., 7., 9., 1., 3., 5., 4., 4., 5., 7.,\n",
       "        1., 3.])"
      ]
     },
     "execution_count": 12,
     "metadata": {},
     "output_type": "execute_result"
    }
   ],
   "source": [
    "torch.randint(1, 10, (20,), dtype=torch.float32)"
   ]
  },
  {
   "cell_type": "code",
   "execution_count": 20,
   "id": "5eb8afdb",
   "metadata": {
    "execution": {
     "iopub.execute_input": "2025-06-05T15:09:50.340369Z",
     "iopub.status.busy": "2025-06-05T15:09:50.339704Z",
     "iopub.status.idle": "2025-06-05T15:09:57.093558Z",
     "shell.execute_reply": "2025-06-05T15:09:57.092967Z",
     "shell.execute_reply.started": "2025-06-05T15:09:50.340347Z"
    },
    "trusted": true
   },
   "outputs": [
    {
     "name": "stdout",
     "output_type": "stream",
     "text": [
      "X = tensor([7., 7., 4., 2., 4., 3., 7., 9., 5., 7., 4., 1., 4., 2., 3., 6., 9., 3.,\n",
      "        2., 3., 3., 4., 4., 1., 2., 5., 6., 4., 1., 9., 6., 7., 8., 4., 6., 4.,\n",
      "        9., 4., 5., 5., 5., 4., 5., 4., 6., 5., 1., 5., 1., 7.],\n",
      "       device='cuda:0')\n",
      "Y = tensor([ 82.,  82.,  52.,  32.,  52.,  42.,  82., 102.,  62.,  82.,  52.,  22.,\n",
      "         52.,  32.,  42.,  72., 102.,  42.,  32.,  42.,  42.,  52.,  52.,  22.,\n",
      "         32.,  62.,  72.,  52.,  22., 102.,  72.,  82.,  92.,  52.,  72.,  52.,\n",
      "        102.,  52.,  62.,  62.,  62.,  52.,  62.,  52.,  72.,  62.,  22.,  62.,\n",
      "         22.,  82.], device='cuda:0')\n",
      "Epoch 0, Loss: 3178.119873046875, m: 1.0099999904632568, c: 1.0099999904632568\n",
      "Epoch 1000, Loss: 161.67578125, m: 8.211641311645508, c: 8.237807273864746\n",
      "Epoch 2000, Loss: 0.9927195310592651, m: 10.163670539855957, c: 10.314260482788086\n",
      "Epoch 3000, Loss: 0.3464347720146179, m: 10.247573852539062, c: 10.632641792297363\n",
      "Epoch 4000, Loss: 0.21811223030090332, m: 10.196943283081055, c: 10.915664672851562\n",
      "Epoch 5000, Loss: 0.10084571689367294, m: 10.133870124816895, c: 11.262811660766602\n",
      "Epoch 6000, Loss: 0.02807878702878952, m: 10.070626258850098, c: 11.611143112182617\n",
      "Epoch 7000, Loss: 0.003373071551322937, m: 10.02446460723877, c: 11.865296363830566\n",
      "Epoch 8000, Loss: 0.00010001012560678646, m: 10.004212379455566, c: 11.976828575134277\n",
      "Epoch 9000, Loss: 3.049382826247893e-07, m: 10.000231742858887, c: 11.99871826171875\n",
      "Final Loss: 2.937449616879917e-09\n",
      "Final m: 10.00002384185791\n",
      "Final c: 11.999876976013184\n"
     ]
    }
   ],
   "source": [
    "class linear_test(torch.nn.Module):\n",
    "    def __init__(self):\n",
    "        super(linear_test,self).__init__()\n",
    "        # Parameters\n",
    "        self.m = torch.nn.Parameter(data=torch.tensor([1.0], dtype=torch.float32, requires_grad=True))\n",
    "        self.c = torch.nn.Parameter(data=torch.tensor([1.0], dtype=torch.float32, requires_grad=True))\n",
    "\n",
    "    def forward(self,input):\n",
    "        return self.m * input + self.c\n",
    "\n",
    "# Form training data\n",
    "m = 10\n",
    "c = 12\n",
    "X = torch.randint(1, 10, (50,), dtype=torch.float32).to(device)\n",
    "Y = m*X + c\n",
    "\n",
    "print(f\"{X = }\")\n",
    "print(f\"{Y = }\")\n",
    "\n",
    "model = linear_test().to(device)\n",
    "loss_f = torch.nn.MSELoss()\n",
    "optimizer = Adam(model.parameters(), lr=1e-2)\n",
    "\n",
    "epochs = 10000\n",
    "\n",
    "for epoch in range(epochs):\n",
    "    optimizer.zero_grad()\n",
    "    y_pred = model(X)\n",
    "\n",
    "    loss = loss_f(y_pred, Y)\n",
    "    loss.backward()\n",
    "    optimizer.step()\n",
    "\n",
    "    if epoch % 1000 == 0:\n",
    "        print(f\"Epoch {epoch}, Loss: {loss.item()}, m: {model.m.item()}, c: {model.c.item()}\")\n",
    "\n",
    "print(f\"Final Loss: {loss.item()}\")\n",
    "print(f\"Final m: {model.m.item()}\")\n",
    "print(f\"Final c: {model.c.item()}\")"
   ]
  },
  {
   "cell_type": "code",
   "execution_count": 23,
   "id": "132534a5-543b-4159-901e-cb7f27961314",
   "metadata": {
    "execution": {
     "iopub.execute_input": "2025-06-05T15:14:39.020349Z",
     "iopub.status.busy": "2025-06-05T15:14:39.020076Z",
     "iopub.status.idle": "2025-06-05T15:14:47.355239Z",
     "shell.execute_reply": "2025-06-05T15:14:47.354589Z",
     "shell.execute_reply.started": "2025-06-05T15:14:39.020330Z"
    },
    "trusted": true
   },
   "outputs": [
    {
     "name": "stdout",
     "output_type": "stream",
     "text": [
      "Epoch 0, Loss: 735.7999877929688, a: 0.9900000095367432, b: 0.9900000095367432, c: 0.9900000095367432\n",
      "Epoch 1000, Loss: 3.6948978900909424, a: 0.67720627784729, b: -0.7560951113700867, c: -2.3576982021331787\n",
      "Epoch 2000, Loss: 1.733394742012024, a: 0.7702591419219971, b: -1.4239493608474731, c: -2.729172706604004\n",
      "Epoch 3000, Loss: 1.1752963066101074, a: 0.8129366040229797, b: -1.890032172203064, c: -1.7541855573654175\n",
      "Epoch 4000, Loss: 0.6107936501502991, a: 0.8652052283287048, b: -2.479386806488037, c: -0.42726579308509827\n",
      "Epoch 5000, Loss: 0.20618192851543427, a: 0.921726644039154, b: -3.1168816089630127, c: 1.0089696645736694\n",
      "Epoch 6000, Loss: 0.034272484481334686, a: 0.9681078195571899, b: -3.6401431560516357, c: 2.1885225772857666\n",
      "Epoch 7000, Loss: 0.0017528521129861474, a: 0.9927934408187866, b: -3.9186818599700928, c: 2.816615581512451\n",
      "Epoch 8000, Loss: 1.239864832314197e-05, a: 0.9993945956230164, b: -3.993169069290161, c: 2.9845948219299316\n",
      "Epoch 9000, Loss: 3.1425395619066876e-09, a: 0.9999904036521912, b: -3.999891996383667, c: 2.9997570514678955\n",
      "Final Loss: 3.3116974874208838e-12\n",
      "Final a: 0.9999997615814209\n",
      "Final b: -3.999998092651367\n",
      "Final c: 2.9999959468841553\n"
     ]
    }
   ],
   "source": [
    "class quadratic_test(torch.nn.Module):\n",
    "    def __init__(self):\n",
    "        super(quadratic_test,self).__init__()\n",
    "        # Parameters\n",
    "        self.a = torch.nn.Parameter(data=torch.tensor([1.0], dtype=torch.float32, requires_grad=True))\n",
    "        self.b = torch.nn.Parameter(data=torch.tensor([1.0], dtype=torch.float32, requires_grad=True))\n",
    "        self.c = torch.nn.Parameter(data=torch.tensor([1.0], dtype=torch.float32, requires_grad=True))\n",
    "\n",
    "    def forward(self,input):\n",
    "        return self.a*input**2 + self.b*input + self.c\n",
    "\n",
    "# Form training data\n",
    "a = 1\n",
    "b = -4\n",
    "c = 3\n",
    "X = torch.randint(1, 10, (50,), dtype=torch.float32).to(device)\n",
    "Y = a*X**2 + b*X + c\n",
    "\n",
    "model = quadratic_test().to(device)\n",
    "loss_f = torch.nn.MSELoss()\n",
    "optimizer = Adam(model.parameters(), lr=1e-2)\n",
    "\n",
    "epochs = 10000\n",
    "\n",
    "for epoch in range(epochs):\n",
    "    optimizer.zero_grad()\n",
    "    y_pred = model(X)\n",
    "\n",
    "    loss = loss_f(y_pred, Y)\n",
    "    loss.backward()\n",
    "    optimizer.step()\n",
    "\n",
    "    if epoch % 1000 == 0:\n",
    "        print(f\"Epoch {epoch}, Loss: {loss.item()}, a: {model.a.item()}, b: {model.b.item()}, c: {model.c.item()}\")\n",
    "\n",
    "print(f\"Final Loss: {loss.item()}\")\n",
    "print(f\"Final a: {model.a.item()}\")\n",
    "print(f\"Final b: {model.b.item()}\")\n",
    "print(f\"Final c: {model.c.item()}\")"
   ]
  },
  {
   "cell_type": "code",
   "execution_count": 30,
   "id": "57138f63-7c88-4bdd-9b04-37dac0a71580",
   "metadata": {
    "trusted": true
   },
   "outputs": [
    {
     "name": "stdout",
     "output_type": "stream",
     "text": [
      "Diff first: 99.0\n",
      "Square first: 87.00000762939453\n"
     ]
    }
   ],
   "source": [
    "# Making a loss function\n",
    "m1 = torch.tensor([[1+1j,2,3],[4,5-2j,6],[7,8+7j,9]])\n",
    "m2 = torch.tensor([[9,8,7],[6,5,4],[3,2,1]])\n",
    "m3 = torch.tensor([[1,6,3],[4,5,4],[2,8,9]])\n",
    "print(f\"Diff first: {(m3-m1).abs().square().sum().item()}\")\n",
    "print(f\"Square first: {(m1.abs().square()-m3.abs().square()).sum().item()}\")"
   ]
  },
  {
   "cell_type": "code",
   "execution_count": 33,
   "id": "9db58a1b",
   "metadata": {},
   "outputs": [],
   "source": [
    "def mseloss(output, target):\n",
    "    return (output-target).abs().square().sum()"
   ]
  },
  {
   "cell_type": "code",
   "execution_count": 31,
   "id": "bb057bf5",
   "metadata": {},
   "outputs": [
    {
     "name": "stdout",
     "output_type": "stream",
     "text": [
      "input:  tensor([[-1.1409, -2.0849,  1.7829, -1.3735,  0.2510],\n",
      "        [ 0.8853,  0.9318, -1.3917,  0.1950, -0.2102],\n",
      "        [-0.2180,  0.0764,  2.3478, -0.1737,  2.4740]], requires_grad=True)\n",
      "target:  tensor([[-0.5745,  1.6349,  0.7425, -0.9133,  1.3114],\n",
      "        [ 0.9814,  0.3599,  0.1797, -0.0538, -0.3924],\n",
      "        [-1.4799, -0.3878,  0.4494, -0.2599, -0.6376]])\n",
      "output:  tensor(1.0893, grad_fn=<MeanBackward0>)\n"
     ]
    }
   ],
   "source": [
    "import torch\n",
    "import torch.nn as nn\n",
    "input = torch.randn(3, 5, requires_grad=True)\n",
    "target = torch.randn(3, 5)\n",
    "loss = nn.L1Loss()\n",
    "output = loss(input, target)\n",
    "output.backward()\n",
    "print(\"input: \", input)\n",
    "print(\"target: \", target)\n",
    "print(\"output: \", output)"
   ]
  },
  {
   "cell_type": "code",
   "execution_count": 34,
   "id": "eb6a91d3",
   "metadata": {},
   "outputs": [
    {
     "name": "stdout",
     "output_type": "stream",
     "text": [
      "input:  tensor([[ 0.6910,  0.8869,  0.8833, -0.2762, -1.0818],\n",
      "        [-1.9304,  0.7685,  0.4189, -1.7208,  1.4043],\n",
      "        [ 0.7033,  0.2609,  0.3491,  0.2938,  0.7813]], requires_grad=True)\n",
      "target:  tensor([[ 0.9096, -0.9433, -0.6552, -0.7087, -0.5643],\n",
      "        [-0.4877,  1.3950, -1.0782, -0.3741, -0.9440],\n",
      "        [-0.7897, -0.7403,  1.0434,  0.1649,  0.9874]])\n",
      "output:  tensor(22.0342, grad_fn=<SumBackward0>)\n"
     ]
    }
   ],
   "source": [
    "input = torch.randn(3, 5, requires_grad=True)\n",
    "target = torch.randn(3, 5)\n",
    "output = mseloss(input, target)\n",
    "output.backward()\n",
    "print(\"input: \", input)\n",
    "print(\"target: \", target)\n",
    "print(\"output: \", output)"
   ]
  },
  {
   "cell_type": "code",
   "execution_count": 53,
   "id": "d8561723",
   "metadata": {},
   "outputs": [
    {
     "name": "stdout",
     "output_type": "stream",
     "text": [
      "Epoch 0, Loss: 1245.85546875, a: 0.9900000095367432\n",
      "Epoch 1000, Loss: 5.226263866120462e-10, a: -1.2831841707229614\n",
      "Epoch 2000, Loss: 3.3089350703896514e-10, a: -1.28318452835083\n",
      "Epoch 3000, Loss: 7.59081686396712e-11, a: -1.2831848859786987\n",
      "Epoch 4000, Loss: 1.375610736431554e-11, a: -1.2831851243972778\n",
      "Epoch 5000, Loss: 1.375610736431554e-11, a: -1.2831851243972778\n",
      "Epoch 6000, Loss: 7.819522807039903e-12, a: -1.2831852436065674\n",
      "Epoch 7000, Loss: 7.819522807039903e-12, a: -1.2831852436065674\n",
      "Epoch 8000, Loss: 4.806821607417078e-12, a: -1.283185362815857\n",
      "Epoch 9000, Loss: 4.806821607417078e-12, a: -1.283185362815857\n",
      "Final Loss: 7.819522807039903e-12\n",
      "Final a: -1.2831852436065674\n"
     ]
    }
   ],
   "source": [
    "class matrix_test(nn.Module):\n",
    "    def __init__(self):\n",
    "        super(matrix_test,self).__init__()\n",
    "        # Parameters\n",
    "        self.a = torch.nn.Parameter(data=torch.tensor([1.0], dtype=torch.float32, requires_grad=True))\n",
    "\n",
    "        self.m = torch.tensor([[1,2,3],[4,5,6],[7,8,9]]).to(device)\n",
    "    \n",
    "    def forward(self, input_m):\n",
    "        t = torch.exp(1j*self.a) * self.m\n",
    "        return torch.matmul(t, input_m)\n",
    "    \n",
    "\n",
    "# Form training data\n",
    "a = (torch.exp(1j*torch.tensor([5.0])) * torch.tensor([[1,2,3],[4,5,6],[7,8,9]], dtype=torch.cfloat)).to(device)\n",
    "X = torch.rand((3,1),dtype=torch.cfloat).to(device)\n",
    "Y = torch.matmul(a, X)\n",
    "\n",
    "model = matrix_test().to(device)\n",
    "optimizer = Adam(model.parameters(), lr=1e-2)\n",
    "\n",
    "epochs = 10000\n",
    "\n",
    "for epoch in range(epochs):\n",
    "    optimizer.zero_grad()\n",
    "    y_pred = model(X)\n",
    "\n",
    "    loss = mseloss(y_pred, Y)\n",
    "    loss.backward()\n",
    "    optimizer.step()\n",
    "\n",
    "    if epoch % 1000 == 0:\n",
    "        print(f\"Epoch {epoch}, Loss: {loss.item()}, a: {model.a.item()}\")\n",
    "\n",
    "print(f\"Final Loss: {loss.item()}\")\n",
    "print(f\"Final a: {model.a.item()}\")"
   ]
  },
  {
   "cell_type": "code",
   "execution_count": 35,
   "id": "a9da752d",
   "metadata": {},
   "outputs": [
    {
     "data": {
      "text/plain": [
       "tensor([[14],\n",
       "        [32],\n",
       "        [50]])"
      ]
     },
     "execution_count": 35,
     "metadata": {},
     "output_type": "execute_result"
    }
   ],
   "source": [
    "a = torch.tensor([[1,2,3],[4,5,6],[7,8,9]])\n",
    "b = torch.tensor([[1],[2],[3]])\n",
    "\n",
    "torch.matmul(a,b)"
   ]
  },
  {
   "cell_type": "code",
   "execution_count": 50,
   "id": "a2f69d89",
   "metadata": {},
   "outputs": [
    {
     "data": {
      "text/plain": [
       "tensor([0.2837-0.9589j])"
      ]
     },
     "execution_count": 50,
     "metadata": {},
     "output_type": "execute_result"
    }
   ],
   "source": [
    "torch.exp(1j*torch.tensor([5.0]))"
   ]
  },
  {
   "cell_type": "code",
   "execution_count": null,
   "id": "a2bcc6d1",
   "metadata": {},
   "outputs": [],
   "source": []
  }
 ],
 "metadata": {
  "kaggle": {
   "accelerator": "gpu",
   "dataSources": [],
   "dockerImageVersionId": 31041,
   "isGpuEnabled": true,
   "isInternetEnabled": true,
   "language": "python",
   "sourceType": "notebook"
  },
  "kernelspec": {
   "display_name": ".venv",
   "language": "python",
   "name": "python3"
  },
  "language_info": {
   "codemirror_mode": {
    "name": "ipython",
    "version": 3
   },
   "file_extension": ".py",
   "mimetype": "text/x-python",
   "name": "python",
   "nbconvert_exporter": "python",
   "pygments_lexer": "ipython3",
   "version": "3.10.11"
  }
 },
 "nbformat": 4,
 "nbformat_minor": 5
}
