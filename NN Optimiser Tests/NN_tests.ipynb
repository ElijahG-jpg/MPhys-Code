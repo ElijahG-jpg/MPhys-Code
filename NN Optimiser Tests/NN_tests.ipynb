{
 "cells": [
  {
   "cell_type": "code",
   "execution_count": 6,
   "id": "09eaa3ff",
   "metadata": {},
   "outputs": [
    {
     "name": "stdout",
     "output_type": "stream",
     "text": [
      "Using Device: cuda\n",
      "X = tensor([6., 4., 5., 9., 1., 5., 8., 6., 5., 4.], device='cuda:0')\n",
      "Y = tensor([21.0000, 14.0000, 17.5000, 31.5000,  3.5000, 17.5000, 28.0000, 21.0000,\n",
      "        17.5000, 14.0000], device='cuda:0')\n",
      "Epoch 0, Loss: 203.125, a: 1.0099999904632568\n",
      "Epoch 100, Loss: 80.76976776123047, a: 1.9316695928573608\n",
      "Epoch 200, Loss: 25.472766876220703, a: 2.620351791381836\n",
      "Epoch 300, Loss: 6.144224643707275, a: 3.0685925483703613\n",
      "Epoch 400, Loss: 1.1046816110610962, a: 3.317350387573242\n",
      "Epoch 500, Loss: 0.14638584852218628, a: 3.4336135387420654\n",
      "Epoch 600, Loss: 0.01421351172029972, a: 3.47934627532959\n",
      "Epoch 700, Loss: 0.0010037255706265569, a: 3.494520425796509\n",
      "Epoch 800, Loss: 5.090345075586811e-05, a: 3.4987680912017822\n",
      "Epoch 900, Loss: 1.8285760461367317e-06, a: 3.4997668266296387\n",
      "4.79967710020901e-08\n",
      "3.499962329864502\n"
     ]
    }
   ],
   "source": [
    "# Base code from stack exchange https://stackoverflow.com/questions/78088764/finding-the-coefficient-a-of-a-linear-equation-of-the-form-y-ax\n",
    "# Formed the class and training loop for me, I inputted data and edited code to remove errors\n",
    "\n",
    "import torch\n",
    "from torch.optim import Adam\n",
    "import numpy as np\n",
    "\n",
    "device = torch.device(\"cuda\" if torch.cuda.is_available() else \"cpu\")\n",
    "print(f\"Using Device: {device}\")\n",
    "\n",
    "class FindParameter(torch.nn.Module):\n",
    "    def __init__(self):\n",
    "        super(FindParameter, self).__init__()\n",
    "        self.a = torch.nn.Parameter(data=torch.tensor([1.0], dtype=torch.float32, requires_grad=True))\n",
    "\n",
    "    def forward(self, input):\n",
    "        return self.a * input\n",
    "\n",
    "\n",
    "a = 3.5\n",
    "X = torch.randint(1, 10, (10,), dtype=torch.float32).to(device)\n",
    "Y = a * X\n",
    "\n",
    "print(f\"{X = }\")\n",
    "print(f\"{Y = }\")\n",
    "\n",
    "model = FindParameter().to(device)\n",
    "loss_f = torch.nn.MSELoss()\n",
    "optimizer = Adam(model.parameters(), lr=1e-2)\n",
    "\n",
    "epochs = 1000\n",
    "\n",
    "for epoch in range(epochs):\n",
    "    optimizer.zero_grad()\n",
    "    y_pred = model(X)\n",
    "\n",
    "    loss = loss_f(y_pred, Y)\n",
    "    loss.backward()\n",
    "    optimizer.step()\n",
    "\n",
    "    if epoch % 100 == 0:\n",
    "        print(f\"Epoch {epoch}, Loss: {loss.item()}, a: {model.a.item()}\")\n",
    "\n",
    "print(loss.item())\n",
    "print(model.a.item())"
   ]
  },
  {
   "cell_type": "code",
   "execution_count": 6,
   "id": "7b421e73",
   "metadata": {},
   "outputs": [
    {
     "data": {
      "text/plain": [
       "tensor([7, 4, 7, 5, 1, 7, 4, 6, 8, 3])"
      ]
     },
     "execution_count": 6,
     "metadata": {},
     "output_type": "execute_result"
    }
   ],
   "source": [
    "X = torch.randint(1, 10, (10,))\n",
    "X"
   ]
  },
  {
   "cell_type": "code",
   "execution_count": 25,
   "id": "83446c2b",
   "metadata": {},
   "outputs": [
    {
     "data": {
      "text/plain": [
       "[Parameter containing:\n",
       " tensor([1.0983], requires_grad=True)]"
      ]
     },
     "execution_count": 25,
     "metadata": {},
     "output_type": "execute_result"
    }
   ],
   "source": [
    "list(model.parameters())"
   ]
  },
  {
   "cell_type": "code",
   "execution_count": null,
   "id": "5eb8afdb",
   "metadata": {},
   "outputs": [],
   "source": []
  }
 ],
 "metadata": {
  "kernelspec": {
   "display_name": ".venv",
   "language": "python",
   "name": "python3"
  },
  "language_info": {
   "codemirror_mode": {
    "name": "ipython",
    "version": 3
   },
   "file_extension": ".py",
   "mimetype": "text/x-python",
   "name": "python",
   "nbconvert_exporter": "python",
   "pygments_lexer": "ipython3",
   "version": "3.10.11"
  }
 },
 "nbformat": 4,
 "nbformat_minor": 5
}
