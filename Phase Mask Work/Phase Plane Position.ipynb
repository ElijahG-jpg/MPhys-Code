{
 "cells": [
  {
   "cell_type": "markdown",
   "id": "2f00af31",
   "metadata": {},
   "source": [
    "# Phase Plane Position\n",
    "Find different degrees of freedom for a single phase plane with a light field propagating through it.\n",
    "\n",
    "Model should simulate:\n",
    "* Light propagating from the start point to the phase mask ($z_1$).\n",
    "* Light's phase is altered as it interacts with the phase mask.\n",
    "* Light propagating from the phase mask to the end point ($z_2$).\n",
    "\n",
    "From this model, a NN should be able to find out the distances $z_1$ and $z_2$ (when $z = z_1 + z_2$ is known). This is the \"axial distance\".\n",
    "\n",
    "After this is reliably found, try changing the degree of freedom to lateral distance of the phase mask. Then increase the degree of freedom by adding another lateral axis (x and y axes).\n",
    "\n",
    "Then try finding the correct alignment of all the parameters when they are initially unknown."
   ]
  },
  {
   "cell_type": "code",
   "execution_count": 28,
   "id": "a3b55f6e",
   "metadata": {},
   "outputs": [],
   "source": [
    "# Imports\n",
    "import numpy as np\n",
    "import scipy as sc\n",
    "import matplotlib.pyplot as plt\n",
    "from matplotlib.colors import hsv_to_rgb\n",
    "import matplotlib.ticker as ticker\n",
    "\n",
    "import torch\n",
    "import torch.nn as nn\n",
    "from torch.nn import Parameter\n",
    "import torch.optim as optim\n",
    "from torch.utils.data import Dataset, DataLoader\n",
    "\n",
    "import random"
   ]
  },
  {
   "cell_type": "code",
   "execution_count": 101,
   "id": "877ce976",
   "metadata": {},
   "outputs": [
    {
     "data": {
      "text/plain": [
       "<torch._C.Generator at 0x144ec3fa3b0>"
      ]
     },
     "execution_count": 101,
     "metadata": {},
     "output_type": "execute_result"
    }
   ],
   "source": [
    "torch.manual_seed(0)"
   ]
  },
  {
   "cell_type": "markdown",
   "id": "24a554b9",
   "metadata": {},
   "source": [
    "### Global Functions"
   ]
  },
  {
   "cell_type": "code",
   "execution_count": 135,
   "id": "2b033c46",
   "metadata": {},
   "outputs": [],
   "source": [
    "# Make a vectorising function\n",
    "def vectorise(field):\n",
    "    x = field.shape[0]\n",
    "    y = field.shape[1]\n",
    "    return field.reshape(x*y,1)\n",
    "\n",
    "# Make an unvectorising function\n",
    "def unvectorise(field, dim):\n",
    "    return field.reshape(dim,dim)\n",
    "\n",
    "#def speckle_pattern():\n",
    "\n",
    "def random_pi():\n",
    "    \"\"\"Generates a random number (3dp) between -pi and pi.\"\"\"\n",
    "    return random.randrange(-3141,3141,1)/1000\n",
    "\n",
    "def random_phase_grid(size, reproduce=False, seed=0):\n",
    "    \"\"\"Generates a random square plane of specified size with each pixel having a random phase change attached to it.\n",
    "    Ranges from -pi to pi. Can reproduce the same matrix if 'reproduce' is set to True.\"\"\"\n",
    "    if reproduce == 1:\n",
    "        torch.manual_seed(seed)\n",
    "        return 2 * np.pi * torch.rand(size,size) - np.pi\n",
    "    elif reproduce == 0:\n",
    "        return 2 * np.pi * torch.rand(size,size) - np.pi\n",
    "    else:\n",
    "        print(f\"Invalid reproducability value given. Accepts either 'True' or 'False'. What was given: {reproduce}.\")\n",
    "\n",
    "def loss_function(output_fields, target_fields):\n",
    "    similarity = 1\n",
    "    for (n, output_field) in enumerate(output_fields):\n",
    "        inner_product = (output_field * torch.conj(target_fields[n])).abs()\n",
    "        similarity = similarity * inner_product.sum()\n",
    "    return (1-similarity)"
   ]
  },
  {
   "cell_type": "code",
   "execution_count": 163,
   "id": "ef9a220d",
   "metadata": {},
   "outputs": [
    {
     "data": {
      "text/plain": [
       "torch.Size([31, 31])"
      ]
     },
     "execution_count": 163,
     "metadata": {},
     "output_type": "execute_result"
    }
   ],
   "source": [
    "random_phase_grid(31).shape"
   ]
  },
  {
   "cell_type": "markdown",
   "id": "58c625ec",
   "metadata": {},
   "source": [
    "### Classes"
   ]
  },
  {
   "cell_type": "code",
   "execution_count": 108,
   "id": "3dfdce75",
   "metadata": {},
   "outputs": [],
   "source": [
    "class Field(torch.Tensor):\n",
    "    \"\"\"Class designed around a 2D electric field represented by a torch tensor.\"\"\"\n",
    "    wl = 633e-9 #[m]\n",
    "    k = torch.tensor(2*np.pi/wl) #[1/m]\n",
    "    k_x = 1235678\n",
    "    k_y = 3457437\n",
    "    k_z = (torch.abs(k)**2 - k_x**2 - k_y**2)**0.5 #[1/m]\n",
    "    \n",
    "    def __init__(self, tensor):\n",
    "        self = tensor\n",
    "\n",
    "    def normalise(self):\n",
    "        return self / torch.linalg.matrix_norm(self)\n",
    "\n",
    "    def visualise(self, title=\"\"):\n",
    "        \"\"\"Displays a visual plot of the field, using hsv colour mapping to demonstrate the \n",
    "        fields phase (Hue) and amplitude (Value).\"\"\"\n",
    "        # Set up plots\n",
    "        fig, axs = plt.subplots(1,2, figsize=(10,5))\n",
    "\n",
    "        # Plot the given field\n",
    "        axs[0].imshow(Complex2HSV(self, 0, 0.065))\n",
    "\n",
    "        # Colour bar\n",
    "        V, H = np.mgrid[0:1:100j, 0:1:300j]\n",
    "        S = np.ones_like(V)\n",
    "        HSV = np.dstack((H,S,V))\n",
    "        RGB = hsv_to_rgb(HSV)\n",
    "\n",
    "        axs[1].imshow(RGB, origin=\"lower\", extent=[0, 2*np.pi, 0, 1], aspect=15)\n",
    "\n",
    "        axs[1].set_xticks([0, np.pi, 2*np.pi], ['0', '$\\pi$', '$2\\pi$'])\n",
    "        axs[1].set_yticks([0, 1], ['0', '1'])\n",
    "\n",
    "        axs[1].set_ylabel(\"Normalised Amplitude\")\n",
    "        axs[1].set_xlabel(\"Phase (rad.)\")\n",
    "\n",
    "        fig.show()\n",
    "        \n",
    "        def propagate_along_z(input_field, z):\n",
    "            \"\"\"Propagates an initial electric field over a specified distance of free space. Assuming the direction of travel\n",
    "            is along the z axis.\"\"\"\n",
    "            # Assuming each pixel is an individual plane wave:\n",
    "            # Find the phase accumulated for each pixel over the propagation distance and add it on\n",
    "            \n",
    "            # Fourier transform a vectorised input electric field into momentum space.\n",
    "            initial_p_field = torch.fft.fft(input_field)\n",
    "            # Add on any extra phase the field accumulates.\n",
    "            propagated_p_field = initial_p_field * torch.exp(1j*k_z*z)\n",
    "            # Inverse fourier transform back into real space\n",
    "            propagated_r_field = torch.fft.ifft(propagated_p_field)\n",
    "            \n",
    "            return propagated_r_field"
   ]
  },
  {
   "cell_type": "markdown",
   "id": "a5b269b0",
   "metadata": {},
   "source": [
    "### Code a Phase Mask"
   ]
  },
  {
   "cell_type": "code",
   "execution_count": 27,
   "id": "a153062b",
   "metadata": {},
   "outputs": [],
   "source": [
    "# Should be the size of the electric field, perhaps with a speckle pattern on it"
   ]
  },
  {
   "cell_type": "markdown",
   "id": "b718a52f",
   "metadata": {},
   "source": [
    "### Axial distance"
   ]
  },
  {
   "cell_type": "code",
   "execution_count": null,
   "id": "d468cf94",
   "metadata": {},
   "outputs": [],
   "source": []
  }
 ],
 "metadata": {
  "kernelspec": {
   "display_name": "Python 3 (ipykernel)",
   "language": "python",
   "name": "python3"
  },
  "language_info": {
   "codemirror_mode": {
    "name": "ipython",
    "version": 3
   },
   "file_extension": ".py",
   "mimetype": "text/x-python",
   "name": "python",
   "nbconvert_exporter": "python",
   "pygments_lexer": "ipython3",
   "version": "3.11.4"
  }
 },
 "nbformat": 4,
 "nbformat_minor": 5
}
